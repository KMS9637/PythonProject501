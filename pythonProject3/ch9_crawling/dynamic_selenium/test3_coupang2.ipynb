{
 "cells": [
  {
   "cell_type": "code",
   "id": "initial_id",
   "metadata": {
    "collapsed": true,
    "ExecuteTime": {
     "end_time": "2024-07-22T06:15:00.322527Z",
     "start_time": "2024-07-22T06:15:00.204915Z"
    }
   },
   "source": [
    "from selenium import webdriver\n",
    "from selenium.webdriver.common.keys import Keys\n",
    "from selenium.webdriver.common.by import By\n",
    "import time\n",
    "import urllib.request\n",
    "import os\n",
    "from selenium.webdriver.chrome.options import Options"
   ],
   "outputs": [],
   "execution_count": 2
  },
  {
   "metadata": {
    "ExecuteTime": {
     "end_time": "2024-07-22T06:18:53.375133Z",
     "start_time": "2024-07-22T06:17:23.767819Z"
    }
   },
   "cell_type": "code",
   "source": [
    "chrome_options = Options()\n",
    "chrome_options.add_argument('--disable-blink-features=AutomationControlled')\n",
    "\n",
    "# Initialize the WebDriver with options\n",
    "driver = webdriver.Chrome(options=chrome_options)\n",
    "search_words = [\"캠핑모자\"]\n",
    "\n",
    "# Iterate over search terms\n",
    "for search_word in search_words:\n",
    "    # Create a folder for the search term if it doesn't exist\n",
    "    if not os.path.isdir(search_word):\n",
    "        os.mkdir(search_word)\n",
    "\n",
    "    # Iterate through pages\n",
    "    for page in range(1, 6):  # Example: process first 5 pages\n",
    "        # Construct the URL with the current search term and page number\n",
    "      \n",
    "        #해당 url 키워드 검색으로 들어가면 차단, 그래서, 미리 검색어 적어두고 접근 하면, 1페이지 상품 사진 다운로드 가능. \n",
    "        # 2페이지 접근시 다시 차단. \n",
    "        \n",
    "        url = f\"https://www.coupang.com/np/search?component=&q={search_word}&channel=user&page={page}\"\n",
    "        driver.implicitly_wait(3)\n",
    "        driver.get(url)\n",
    "        time.sleep(3)  # Wait for the page to load\n",
    "\n",
    "        # Find image elements\n",
    "        images = driver.find_elements(By.CSS_SELECTOR, \"dt.image\")\n",
    "        print(f\"Found {len(images)} images on page {page} for search term '{search_word}'\")\n",
    "\n",
    "        # Download images\n",
    "        count = 1\n",
    "        for image in images:\n",
    "            if count > 5:  # Limit to 5 images per page for this example\n",
    "                break\n",
    "            try:\n",
    "                img_url = image.find_element(By.CSS_SELECTOR, \"img.search-product-wrap-img\").get_attribute(\"src\")\n",
    "                print(f\"Image URL: {img_url}\")\n",
    "\n",
    "                # Download the image\n",
    "                urllib.request.urlretrieve(\n",
    "                    img_url,\n",
    "                    os.path.join(search_word, f\"{search_word}.{page}.{count}.jpg\")\n",
    "                )\n",
    "                print(f\"Downloaded {search_word}.{page}.{count}.jpg\")\n",
    "                count += 1\n",
    "            except Exception as e:\n",
    "                print(f\"Error downloading image: {e}\")\n",
    "            time.sleep(2)\n",
    "# Close the WebDriver\n",
    "driver.quit()\n"
   ],
   "id": "a1812d9de885921e",
   "outputs": [
    {
     "name": "stdout",
     "output_type": "stream",
     "text": [
      "Found 59 images on page 1 for search term '캠핑모자'\n",
      "Image URL: https://thumbnail7.coupangcdn.com/thumbnails/remote/230x230ex/image/vendor_inventory/154c/ea0a33a20e6758e9aadee08e80e3654b8859bfce3d94f19bdd7bf30ed32b.png\n",
      "Downloaded 캠핑모자.1.1.jpg\n",
      "Image URL: https://thumbnail9.coupangcdn.com/thumbnails/remote/230x230ex/image/retail/images/2023/07/12/16/3/e4a76be8-abf5-47ed-bc0a-5d1250c5a0fb.jpg\n",
      "Downloaded 캠핑모자.1.2.jpg\n",
      "Image URL: https://thumbnail7.coupangcdn.com/thumbnails/remote/230x230ex/image/vendor_inventory/154c/ea0a33a20e6758e9aadee08e80e3654b8859bfce3d94f19bdd7bf30ed32b.png\n",
      "Downloaded 캠핑모자.1.3.jpg\n",
      "Image URL: https://thumbnail8.coupangcdn.com/thumbnails/remote/230x230ex/image/retail/images/2022/10/12/13/1/d562d27e-c309-4ce5-b6b2-4e755ed4c6e6.jpg\n",
      "Downloaded 캠핑모자.1.4.jpg\n",
      "Image URL: https://thumbnail7.coupangcdn.com/thumbnails/remote/230x230ex/image/retail/images/2483725352787213-df724400-fe58-4d72-abc0-fd26136b6ff5.jpg\n",
      "Downloaded 캠핑모자.1.5.jpg\n",
      "Found 36 images on page 2 for search term '캠핑모자'\n",
      "Image URL: https://thumbnail7.coupangcdn.com/thumbnails/remote/230x230ex/image/vendor_inventory/154c/ea0a33a20e6758e9aadee08e80e3654b8859bfce3d94f19bdd7bf30ed32b.png\n",
      "Downloaded 캠핑모자.2.1.jpg\n",
      "Image URL: https://thumbnail7.coupangcdn.com/thumbnails/remote/230x230ex/image/retail/images/2020/04/28/20/2/9c17eb8d-bada-4280-a5e1-e001af01acc9.jpg\n",
      "Downloaded 캠핑모자.2.2.jpg\n",
      "Image URL: https://thumbnail8.coupangcdn.com/thumbnails/remote/230x230ex/image/vendor_inventory/aa9e/c2bb0ff43eb4fd71af9b5afe3d943878d9f96e7bed7f9a4f1c8070278be1.png\n",
      "Downloaded 캠핑모자.2.3.jpg\n",
      "Image URL: https://thumbnail6.coupangcdn.com/thumbnails/remote/230x230ex/image/vendor_inventory/a32f/84b050d3cc7207fedd8517da465f1813b2915b1fcad8f11113713399fbad.jpg\n",
      "Downloaded 캠핑모자.2.4.jpg\n",
      "Image URL: https://thumbnail7.coupangcdn.com/thumbnails/remote/230x230ex/image/retail/images/2483725352787213-df724400-fe58-4d72-abc0-fd26136b6ff5.jpg\n",
      "Downloaded 캠핑모자.2.5.jpg\n",
      "Found 36 images on page 3 for search term '캠핑모자'\n",
      "Image URL: https://thumbnail8.coupangcdn.com/thumbnails/remote/230x230ex/image/rs_quotation_api/t7fsygc5/0e1d71f82b6e41e2baa29c7c8817da07.jpg\n",
      "Downloaded 캠핑모자.3.1.jpg\n",
      "Image URL: https://thumbnail10.coupangcdn.com/thumbnails/remote/230x230ex/image/vendor_inventory/9543/4d270149833297e33ff2c9871c83ca13f1128bacc57f62864c678c4284b7.png\n",
      "Error downloading image: HTTP Error 502: Bad Gateway\n",
      "Image URL: https://thumbnail6.coupangcdn.com/thumbnails/remote/230x230ex/image/vendor_inventory/f4e4/2e02eab34c5536ca544a9940dbd524505ad187e459aa7059642c6622abc6.jpg\n",
      "Downloaded 캠핑모자.3.2.jpg\n",
      "Image URL: https://thumbnail9.coupangcdn.com/thumbnails/remote/230x230ex/image/vendor_inventory/9d86/eb18bb694eacc28facc95edba81496d406a66967133ace4f626d88697ca9.jpg\n",
      "Downloaded 캠핑모자.3.3.jpg\n",
      "Image URL: https://thumbnail8.coupangcdn.com/thumbnails/remote/230x230ex/image/vendor_inventory/8e5c/298a1016b198d280f068812e7785dd867da252052555fbcd01329ff1f6b5.jpg\n",
      "Error downloading image: HTTP Error 502: Bad Gateway\n",
      "Image URL: https://thumbnail6.coupangcdn.com/thumbnails/remote/230x230ex/image/vendor_inventory/47ad/fae64211211a94f47eb8e924afb062cdc08c3dc9c0fd9e9ca47fefe905dc.jpg\n",
      "Downloaded 캠핑모자.3.4.jpg\n",
      "Image URL: https://thumbnail9.coupangcdn.com/thumbnails/remote/230x230ex/image/vendor_inventory/ab52/8e858858d250e7e7a51afca856092d76b0328c70234f241afa77001f782d.jpg\n",
      "Downloaded 캠핑모자.3.5.jpg\n",
      "Found 36 images on page 4 for search term '캠핑모자'\n",
      "Image URL: https://thumbnail7.coupangcdn.com/thumbnails/remote/230x230ex/image/vendor_inventory/154c/ea0a33a20e6758e9aadee08e80e3654b8859bfce3d94f19bdd7bf30ed32b.png\n",
      "Downloaded 캠핑모자.4.1.jpg\n",
      "Image URL: https://thumbnail8.coupangcdn.com/thumbnails/remote/230x230ex/image/rs_quotation_api/reqvy9ez/57f933d7b3724947b826c7fb34979aa8.jpg\n",
      "Downloaded 캠핑모자.4.2.jpg\n",
      "Image URL: https://thumbnail7.coupangcdn.com/thumbnails/remote/230x230ex/image/retail/images/2483725352787213-df724400-fe58-4d72-abc0-fd26136b6ff5.jpg\n",
      "Downloaded 캠핑모자.4.3.jpg\n",
      "Image URL: https://thumbnail10.coupangcdn.com/thumbnails/remote/230x230ex/image/retail/images/2021/07/14/13/3/db76a6e1-02c9-45e4-928c-011673c822ec.jpg\n",
      "Downloaded 캠핑모자.4.4.jpg\n",
      "Image URL: https://thumbnail8.coupangcdn.com/thumbnails/remote/230x230ex/image/vendor_inventory/aa9e/c2bb0ff43eb4fd71af9b5afe3d943878d9f96e7bed7f9a4f1c8070278be1.png\n",
      "Downloaded 캠핑모자.4.5.jpg\n",
      "Found 36 images on page 5 for search term '캠핑모자'\n",
      "Image URL: https://thumbnail8.coupangcdn.com/thumbnails/remote/230x230ex/image/rs_quotation_api/t7fsygc5/0e1d71f82b6e41e2baa29c7c8817da07.jpg\n",
      "Downloaded 캠핑모자.5.1.jpg\n",
      "Image URL: https://thumbnail9.coupangcdn.com/thumbnails/remote/230x230ex/image/vendor_inventory/e3df/d63a325478f1790556820cba68468930760f3bfba8f4be101e951f900bfe.jpg\n",
      "Downloaded 캠핑모자.5.2.jpg\n",
      "Image URL: https://thumbnail6.coupangcdn.com/thumbnails/remote/230x230ex/image/vendor_inventory/78a9/116b774671476da3ac1d4851dcba32540f2fc9bebdfe8e3a97a09178eee6.jpg\n",
      "Downloaded 캠핑모자.5.3.jpg\n",
      "Image URL: https://thumbnail8.coupangcdn.com/thumbnails/remote/230x230ex/image/rs_quotation_api/b9dd/b7df4746e15464f4c819706276b6a1d3c199c6e6a233dcb701261330ddf5.jpg\n",
      "Downloaded 캠핑모자.5.4.jpg\n",
      "Image URL: https://thumbnail6.coupangcdn.com/thumbnails/remote/230x230ex/image/vendor_inventory/f4e4/2e02eab34c5536ca544a9940dbd524505ad187e459aa7059642c6622abc6.jpg\n",
      "Downloaded 캠핑모자.5.5.jpg\n"
     ]
    }
   ],
   "execution_count": 4
  },
  {
   "metadata": {
    "ExecuteTime": {
     "end_time": "2024-07-22T06:16:20.770725Z",
     "start_time": "2024-07-22T06:16:20.767760Z"
    }
   },
   "cell_type": "code",
   "source": "",
   "id": "f5dd04dd1342c36e",
   "outputs": [],
   "execution_count": 3
  }
 ],
 "metadata": {
  "kernelspec": {
   "display_name": "Python 3",
   "language": "python",
   "name": "python3"
  },
  "language_info": {
   "codemirror_mode": {
    "name": "ipython",
    "version": 2
   },
   "file_extension": ".py",
   "mimetype": "text/x-python",
   "name": "python",
   "nbconvert_exporter": "python",
   "pygments_lexer": "ipython2",
   "version": "2.7.6"
  }
 },
 "nbformat": 4,
 "nbformat_minor": 5
}
