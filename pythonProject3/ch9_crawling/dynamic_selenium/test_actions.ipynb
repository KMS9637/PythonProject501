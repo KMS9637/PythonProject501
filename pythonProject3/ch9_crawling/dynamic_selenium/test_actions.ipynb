{
 "cells": [
  {
   "cell_type": "code",
   "execution_count": null,
   "id": "initial_id",
   "metadata": {
    "collapsed": true
   },
   "outputs": [],
   "source": "# https://github.com/SeleniumHQ/seleniumhq.github.io/blob/trunk/examples/python/tests/actions_api/test_actions.py\n"
  },
  {
   "metadata": {
    "ExecuteTime": {
     "end_time": "2024-07-22T00:48:07.675007Z",
     "start_time": "2024-07-22T00:48:07.669328Z"
    }
   },
   "cell_type": "code",
   "source": [
    "from time import time\n",
    "\n",
    "from selenium.webdriver import Keys, ActionChains\n",
    "from selenium.webdriver.common.actions.action_builder import ActionBuilder\n",
    "from selenium.webdriver.common.by import By\n",
    "\n",
    "\n",
    "def test_pauses(driver):\n",
    "    driver.get('https://selenium.dev/selenium/web/mouse_interaction.html')\n",
    "\n",
    "    start = time()\n",
    "\n",
    "    clickable = driver.find_element(By.ID, \"clickable\")\n",
    "    ActionChains(driver)\\\n",
    "        .move_to_element(clickable)\\\n",
    "        .pause(1)\\\n",
    "        .click_and_hold()\\\n",
    "        .pause(1)\\\n",
    "        .send_keys(\"abc\")\\\n",
    "        .perform()\n",
    "\n",
    "    duration = time() - start\n",
    "    assert duration > 2\n",
    "    assert duration < 3\n",
    "\n",
    "\n",
    "def test_releases_all(driver):\n",
    "    driver.get('https://selenium.dev/selenium/web/mouse_interaction.html')\n",
    "\n",
    "    clickable = driver.find_element(By.ID, \"clickable\")\n",
    "    ActionChains(driver)\\\n",
    "        .click_and_hold(clickable)\\\n",
    "        .key_down(Keys.SHIFT)\\\n",
    "        .key_down(\"a\")\\\n",
    "        .perform()\n",
    "\n",
    "    ActionBuilder(driver).clear_actions()\n",
    "\n",
    "    ActionChains(driver).key_down('a').perform()\n",
    "\n",
    "    assert clickable.get_attribute('value')[0] == \"A\"\n",
    "    assert clickable.get_attribute('value')[1] == \"a\""
   ],
   "id": "7041eb0d4c845f28",
   "outputs": [],
   "execution_count": 2
  },
  {
   "metadata": {},
   "cell_type": "code",
   "outputs": [],
   "execution_count": null,
   "source": "",
   "id": "8170232721f5fb51"
  }
 ],
 "metadata": {
  "kernelspec": {
   "display_name": "Python 3",
   "language": "python",
   "name": "python3"
  },
  "language_info": {
   "codemirror_mode": {
    "name": "ipython",
    "version": 2
   },
   "file_extension": ".py",
   "mimetype": "text/x-python",
   "name": "python",
   "nbconvert_exporter": "python",
   "pygments_lexer": "ipython2",
   "version": "2.7.6"
  }
 },
 "nbformat": 4,
 "nbformat_minor": 5
}
