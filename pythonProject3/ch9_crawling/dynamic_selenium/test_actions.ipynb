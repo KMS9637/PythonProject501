{
 "cells": [
  {
   "cell_type": "code",
   "id": "initial_id",
   "metadata": {
    "collapsed": true,
    "ExecuteTime": {
     "end_time": "2024-07-22T01:48:20.900414Z",
     "start_time": "2024-07-22T01:48:20.894360Z"
    }
   },
   "source": "# https://github.com/SeleniumHQ/seleniumhq.github.io/blob/trunk/examples/python/tests/actions_api/test_actions.py\n",
   "outputs": [],
   "execution_count": 9
  },
  {
   "metadata": {
    "ExecuteTime": {
     "end_time": "2024-07-22T01:48:22.198993Z",
     "start_time": "2024-07-22T01:48:20.904416Z"
    }
   },
   "cell_type": "code",
   "source": [
    "from time import time\n",
    "\n",
    "from selenium.webdriver import Keys, ActionChains\n",
    "from selenium.webdriver.common.actions.action_builder import ActionBuilder\n",
    "from selenium.webdriver.common.by import By\n",
    "\n",
    "#추가\n",
    "from selenium import webdriver\n",
    "driver = webdriver.Chrome()\n",
    "\n",
    "def test_pauses(driver):\n",
    "    driver.get('https://selenium.dev/selenium/web/mouse_interaction.html')\n",
    "\n",
    "    start = time()\n",
    "\n",
    "    clickable = driver.find_element(By.ID, \"clickable\")\n",
    "    ActionChains(driver)\\\n",
    "        .move_to_element(clickable)\\\n",
    "        .pause(1)\\\n",
    "        .click_and_hold()\\\n",
    "        .pause(1)\\\n",
    "        .send_keys(\"abc\")\\\n",
    "        .perform()\n",
    "\n",
    "    duration = time() - start\n",
    "    assert duration > 2\n",
    "    assert duration < 3\n",
    "\n",
    "\n",
    "def test_releases_all(driver):\n",
    "    driver.get('https://selenium.dev/selenium/web/mouse_interaction.html')\n",
    "\n",
    "    clickable = driver.find_element(By.ID, \"clickable\")\n",
    "    ActionChains(driver)\\\n",
    "        .click_and_hold(clickable)\\\n",
    "        .key_down(Keys.SHIFT)\\\n",
    "        .key_down(\"a\")\\\n",
    "        .perform()\n",
    "\n",
    "    ActionBuilder(driver).clear_actions()\n",
    "\n",
    "    ActionChains(driver).key_down('a').perform()\n",
    "    print(clickable.get_attribute('value')[0])\n",
    "    print(clickable.get_attribute('value')[1])\n",
    "    assert clickable.get_attribute('value')[0] == \"A\"\n",
    "    assert clickable.get_attribute('value')[1] == \"a\""
   ],
   "id": "7041eb0d4c845f28",
   "outputs": [],
   "execution_count": 10
  },
  {
   "metadata": {
    "ExecuteTime": {
     "end_time": "2024-07-22T01:48:26.325421Z",
     "start_time": "2024-07-22T01:48:22.198993Z"
    }
   },
   "cell_type": "code",
   "source": [
    "test_pauses(driver)\n",
    "test_releases_all(driver)"
   ],
   "id": "8170232721f5fb51",
   "outputs": [
    {
     "name": "stdout",
     "output_type": "stream",
     "text": [
      "A\n",
      "a\n"
     ]
    }
   ],
   "execution_count": 11
  },
  {
   "metadata": {
    "ExecuteTime": {
     "end_time": "2024-07-22T01:48:26.330542Z",
     "start_time": "2024-07-22T01:48:26.327425Z"
    }
   },
   "cell_type": "code",
   "source": "",
   "id": "c613023a62f41f32",
   "outputs": [],
   "execution_count": 11
  }
 ],
 "metadata": {
  "kernelspec": {
   "display_name": "Python 3",
   "language": "python",
   "name": "python3"
  },
  "language_info": {
   "codemirror_mode": {
    "name": "ipython",
    "version": 2
   },
   "file_extension": ".py",
   "mimetype": "text/x-python",
   "name": "python",
   "nbconvert_exporter": "python",
   "pygments_lexer": "ipython2",
   "version": "2.7.6"
  }
 },
 "nbformat": 4,
 "nbformat_minor": 5
}
